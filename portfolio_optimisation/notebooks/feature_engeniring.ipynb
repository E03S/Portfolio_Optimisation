{
 "cells": [
  {
   "cell_type": "code",
   "execution_count": 3,
   "metadata": {},
   "outputs": [
    {
     "name": "stderr",
     "output_type": "stream",
     "text": [
      "[*********************100%%**********************]  503 of 503 completed\n",
      "\n",
      "2 Failed downloads:\n",
      "['BRK.B']: Exception('%ticker%: No timezone found, symbol may be delisted')\n",
      "['BF.B']: Exception('%ticker%: No price data found, symbol may be delisted (1d 2010-01-01 -> 2024-01-01)')\n"
     ]
    }
   ],
   "source": [
    "from portfolio_optimisation.classes.yahoo_parser import SP500Parser\n",
    "yahoo_parser = SP500Parser()\n",
    "\n",
    "\n",
    "start = '2010-01-01'\n",
    "end = '2024-01-01'\n",
    "data = yahoo_parser.download_sp500_data(start, end)"
   ]
  },
  {
   "cell_type": "code",
   "execution_count": 5,
   "metadata": {},
   "outputs": [],
   "source": [
    "data.to_csv('/Users/sprilut/workspace/hse/Portfolio_Optimisation/datasets/sp500_historical_data.csv')"
   ]
  },
  {
   "cell_type": "code",
   "execution_count": 6,
   "metadata": {},
   "outputs": [
    {
     "data": {
      "text/html": [
       "<div>\n",
       "<style scoped>\n",
       "    .dataframe tbody tr th:only-of-type {\n",
       "        vertical-align: middle;\n",
       "    }\n",
       "\n",
       "    .dataframe tbody tr th {\n",
       "        vertical-align: top;\n",
       "    }\n",
       "\n",
       "    .dataframe thead th {\n",
       "        text-align: right;\n",
       "    }\n",
       "</style>\n",
       "<table border=\"1\" class=\"dataframe\">\n",
       "  <thead>\n",
       "    <tr style=\"text-align: right;\">\n",
       "      <th></th>\n",
       "      <th>Symbol</th>\n",
       "      <th>Adj Close</th>\n",
       "      <th>Close</th>\n",
       "      <th>High</th>\n",
       "      <th>Low</th>\n",
       "      <th>Open</th>\n",
       "      <th>Volume</th>\n",
       "    </tr>\n",
       "    <tr>\n",
       "      <th>Date</th>\n",
       "      <th></th>\n",
       "      <th></th>\n",
       "      <th></th>\n",
       "      <th></th>\n",
       "      <th></th>\n",
       "      <th></th>\n",
       "      <th></th>\n",
       "    </tr>\n",
       "  </thead>\n",
       "  <tbody>\n",
       "    <tr>\n",
       "      <th>2010-01-04</th>\n",
       "      <td>A</td>\n",
       "      <td>20.154915</td>\n",
       "      <td>22.389128</td>\n",
       "      <td>22.625179</td>\n",
       "      <td>22.267525</td>\n",
       "      <td>22.453505</td>\n",
       "      <td>3815561.0</td>\n",
       "    </tr>\n",
       "    <tr>\n",
       "      <th>2010-01-05</th>\n",
       "      <td>A</td>\n",
       "      <td>19.935982</td>\n",
       "      <td>22.145924</td>\n",
       "      <td>22.331903</td>\n",
       "      <td>22.002861</td>\n",
       "      <td>22.324751</td>\n",
       "      <td>4186031.0</td>\n",
       "    </tr>\n",
       "    <tr>\n",
       "      <th>2010-01-06</th>\n",
       "      <td>A</td>\n",
       "      <td>19.865147</td>\n",
       "      <td>22.067240</td>\n",
       "      <td>22.174536</td>\n",
       "      <td>22.002861</td>\n",
       "      <td>22.067240</td>\n",
       "      <td>3243779.0</td>\n",
       "    </tr>\n",
       "    <tr>\n",
       "      <th>2010-01-07</th>\n",
       "      <td>A</td>\n",
       "      <td>19.839396</td>\n",
       "      <td>22.038628</td>\n",
       "      <td>22.045780</td>\n",
       "      <td>21.816881</td>\n",
       "      <td>22.017166</td>\n",
       "      <td>3095172.0</td>\n",
       "    </tr>\n",
       "    <tr>\n",
       "      <th>2010-01-08</th>\n",
       "      <td>A</td>\n",
       "      <td>19.832952</td>\n",
       "      <td>22.031473</td>\n",
       "      <td>22.067240</td>\n",
       "      <td>21.745352</td>\n",
       "      <td>21.917025</td>\n",
       "      <td>3733918.0</td>\n",
       "    </tr>\n",
       "  </tbody>\n",
       "</table>\n",
       "</div>"
      ],
      "text/plain": [
       "           Symbol  Adj Close      Close       High        Low       Open  \\\n",
       "Date                                                                       \n",
       "2010-01-04      A  20.154915  22.389128  22.625179  22.267525  22.453505   \n",
       "2010-01-05      A  19.935982  22.145924  22.331903  22.002861  22.324751   \n",
       "2010-01-06      A  19.865147  22.067240  22.174536  22.002861  22.067240   \n",
       "2010-01-07      A  19.839396  22.038628  22.045780  21.816881  22.017166   \n",
       "2010-01-08      A  19.832952  22.031473  22.067240  21.745352  21.917025   \n",
       "\n",
       "               Volume  \n",
       "Date                   \n",
       "2010-01-04  3815561.0  \n",
       "2010-01-05  4186031.0  \n",
       "2010-01-06  3243779.0  \n",
       "2010-01-07  3095172.0  \n",
       "2010-01-08  3733918.0  "
      ]
     },
     "execution_count": 6,
     "metadata": {},
     "output_type": "execute_result"
    }
   ],
   "source": [
    "data.head()"
   ]
  },
  {
   "cell_type": "code",
   "execution_count": 48,
   "metadata": {},
   "outputs": [],
   "source": [
    "import pandas as pd\n",
    "data = pd.read_csv('/Users/sprilut/workspace/hse/Portfolio_Optimisation/datasets/sp500_historical_data.csv', index_col=0)\n",
    "import pandas as pd\n",
    "import numpy as np\n",
    "\n",
    "hard_coded_portfolio = {\n",
    "    'AAPL': 0.07,\n",
    "    'MSFT': 0.065,\n",
    "    'AMZN': 0.032,\n",
    "    'NVDA': 0.028,\n",
    "    'GOOGL': 0.021,\n",
    "    'TSLA': 0.019,\n",
    "    'GOOG': 0.018,\n",
    "    'BRK.B': 0.018,\n",
    "    'META': 0.018,\n",
    "    'UNH': 0.013,\n",
    "    'XOM': 0.013,\n",
    "    'LLY': 0.012,\n",
    "    'JPM': 0.012,\n",
    "    'JNJ': 0.011,\n",
    "    'V': 0.011,\n",
    "    'PG': 0.01,\n",
    "    'MA': 0.009,\n",
    "    'AVGO': 0.009,\n",
    "    'HD': 0.009,\n",
    "    'CVX': 0.008,\n",
    "    'MRK': 0.007,\n",
    "    'ABBV': 0.007,\n",
    "    'COST': 0.007,\n",
    "    'PEP': 0.007,\n",
    "    'ADBE': 0.007\n",
    "}\n",
    "best_25_tickers = list(hard_coded_portfolio.keys())\n",
    "best_25_historical = data[data['Symbol'].isin(best_25_tickers)]"
   ]
  },
  {
   "cell_type": "code",
   "execution_count": 61,
   "metadata": {},
   "outputs": [],
   "source": [
    "import pandas as pd\n",
    "import pandas as pd\n",
    "from ta.trend import MACD\n",
    "# Assuming 'data' is your DataFrame and it includes a 'Close' column\n",
    "\n",
    "# Assuming 'data' is your DataFrame and it includes 'StockID' and 'Close' columns\n",
    "# First, ensure your MACD and RSI functions are defined\n",
    "\n",
    "def apply_features(group):\n",
    "    group.index = pd.to_datetime(group.index)\n",
    "\n",
    "    # Compute lag features, moving averages, etc., for the group\n",
    "    for lag in range(1, 4):\n",
    "        group[f'lag_{lag}'] = group['Close'].shift(lag)\n",
    "    group['weekly_return'] = group['Close'].pct_change(5)\n",
    "    group['5_day_MA'] = group['Close'].rolling(window=5).mean()\n",
    "    group['20_day_MA'] = group['Close'].rolling(window=20).mean()\n",
    "    group['5_day_volatility'] = group['Close'].rolling(window=5).std()\n",
    "    group['momentum'] = group['Close'] - group['Close'].shift(1)\n",
    "    \n",
    "    # MACD, ensuring you handle NaNs as per your strategy\n",
    "\n",
    "    macd = MACD(close=group['Close'], window_slow=26, window_fast=12, window_sign=9)\n",
    "    group['MACD'] = macd.macd()\n",
    "    group['MACD_signal'] = macd.macd_signal()\n",
    "    group['MACD_histogram'] = macd.macd_diff()\n",
    "\n",
    "    # Adjusting for multi-stock data: adding week_of_year and month\n",
    "    group['week_of_year'] = group.index.isocalendar().week\n",
    "    group['month'] = group.index.month\n",
    "    \n",
    "    return group.dropna()  # Optionally drop NaNs\n",
    "\n",
    "# Apply the function to each group and recombine\n",
    "data_grouped = data.groupby('Symbol').apply(apply_features)\n"
   ]
  },
  {
   "cell_type": "code",
   "execution_count": 62,
   "metadata": {},
   "outputs": [
    {
     "data": {
      "text/plain": [
       "0.0005517693131571629"
      ]
     },
     "execution_count": 62,
     "metadata": {},
     "output_type": "execute_result"
    }
   ],
   "source": [
    "from sklearn.ensemble import RandomForestRegressor\n",
    "from sklearn.model_selection import train_test_split\n",
    "from sklearn.metrics import mean_squared_error\n",
    "\n",
    "# Define the features and target variable\n",
    "features = ['lag_1', 'lag_2', 'lag_3', '5_day_MA', '20_day_MA', '5_day_volatility', 'momentum', 'MACD', 'MACD_signal', 'MACD_histogram', 'week_of_year', 'month']\n",
    "target = 'weekly_return'\n",
    "\n",
    "# Split the data into training and testing sets\n",
    "X_train, X_test, y_train, y_test = train_test_split(data_grouped[features], data_grouped[target], test_size=0.2, random_state=42)\n",
    "\n",
    "# Initialize the random forest regressor\n",
    "rf = RandomForestRegressor(n_estimators=100, random_state=42, n_jobs=-1)\n",
    "\n",
    "# Fit the model on the training data\n",
    "rf.fit(X_train, y_train)\n",
    "\n",
    "# Predict the target variable for the test data\n",
    "y_pred = rf.predict(X_test)\n",
    "\n",
    "# Calculate the mean squared error\n",
    "mse = mean_squared_error(y_test, y_pred)\n",
    "mse"
   ]
  },
  {
   "cell_type": "code",
   "execution_count": 63,
   "metadata": {},
   "outputs": [
    {
     "data": {
      "image/png": "[encoded data removed]",
      "text/plain": [
       "<Figure size 640x480 with 1 Axes>"
      ]
     },
     "metadata": {},
     "output_type": "display_data"
    }
   ],
   "source": [
    "import matplotlib.pyplot as plt\n",
    "\n",
    "# Plot the predictions and test values\n",
    "plt.plot(y_test.values, label='Test Values')\n",
    "plt.plot(y_pred, label='Predictions')\n",
    "plt.xlabel('Date')\n",
    "plt.ylabel('Close Price')\n",
    "plt.title('Predictions vs Test Values')\n",
    "plt.legend()\n",
    "plt.show()\n"
   ]
  },
  {
   "cell_type": "code",
   "execution_count": 64,
   "metadata": {},
   "outputs": [
    {
     "name": "stdout",
     "output_type": "stream",
     "text": [
      "Mean Absolute Error: 0.01581976134678701\n",
      "Root Mean Squared Error: 0.02348977039387918\n",
      "R-squared Score: 0.7064525583225032\n"
     ]
    }
   ],
   "source": [
    "from sklearn.metrics import mean_absolute_error, mean_squared_error, r2_score\n",
    "\n",
    "# Calculate mean absolute error\n",
    "mae = mean_absolute_error(y_test, y_pred)\n",
    "\n",
    "# Calculate root mean squared error\n",
    "rmse = mean_squared_error(y_test, y_pred, squared=False)\n",
    "\n",
    "# Calculate R-squared score\n",
    "r2 = r2_score(y_test, y_pred)\n",
    "\n",
    "\n",
    "# Print the metrics\n",
    "print(\"Mean Absolute Error:\", mae)\n",
    "print(\"Root Mean Squared Error:\", rmse)\n",
    "print(\"R-squared Score:\", r2)\n"
   ]
  }
 ],
 "metadata": {
  "kernelspec": {
   "display_name": "Python 3 (ipykernel)",
   "language": "python",
   "name": "python3"
  },
  "language_info": {
   "codemirror_mode": {
    "name": "ipython",
    "version": 3
   },
   "file_extension": ".py",
   "mimetype": "text/x-python",
   "name": "python",
   "nbconvert_exporter": "python",
   "pygments_lexer": "ipython3",
   "version": "3.11.5"
  }
 },
 "nbformat": 4,
 "nbformat_minor": 4
}
